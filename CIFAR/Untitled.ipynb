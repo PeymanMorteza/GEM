{
 "cells": [
  {
   "cell_type": "code",
   "execution_count": 1,
   "metadata": {},
   "outputs": [],
   "source": [
    "import pandas as pd"
   ]
  },
  {
   "cell_type": "code",
   "execution_count": 3,
   "metadata": {},
   "outputs": [],
   "source": [
    "my_data=pd.read_csv(\"in_dist_11\")"
   ]
  },
  {
   "cell_type": "code",
   "execution_count": 9,
   "metadata": {},
   "outputs": [],
   "source": [
    "my_data=my_data.drop([\"Unnamed: 0\"],axis=1)"
   ]
  },
  {
   "cell_type": "code",
   "execution_count": 10,
   "metadata": {},
   "outputs": [
    {
     "data": {
      "text/html": [
       "<div>\n",
       "<style scoped>\n",
       "    .dataframe tbody tr th:only-of-type {\n",
       "        vertical-align: middle;\n",
       "    }\n",
       "\n",
       "    .dataframe tbody tr th {\n",
       "        vertical-align: top;\n",
       "    }\n",
       "\n",
       "    .dataframe thead th {\n",
       "        text-align: right;\n",
       "    }\n",
       "</style>\n",
       "<table border=\"1\" class=\"dataframe\">\n",
       "  <thead>\n",
       "    <tr style=\"text-align: right;\">\n",
       "      <th></th>\n",
       "      <th>0</th>\n",
       "      <th>1</th>\n",
       "      <th>2</th>\n",
       "      <th>3</th>\n",
       "      <th>4</th>\n",
       "      <th>5</th>\n",
       "      <th>6</th>\n",
       "      <th>7</th>\n",
       "      <th>8</th>\n",
       "      <th>9</th>\n",
       "      <th>10</th>\n",
       "    </tr>\n",
       "  </thead>\n",
       "  <tbody>\n",
       "    <tr>\n",
       "      <th>0</th>\n",
       "      <td>-220.638977</td>\n",
       "      <td>-247.500397</td>\n",
       "      <td>-195.261261</td>\n",
       "      <td>-81.557091</td>\n",
       "      <td>-218.482452</td>\n",
       "      <td>-179.860413</td>\n",
       "      <td>-239.376038</td>\n",
       "      <td>-213.583466</td>\n",
       "      <td>-242.676712</td>\n",
       "      <td>-246.555481</td>\n",
       "      <td>3.0</td>\n",
       "    </tr>\n",
       "    <tr>\n",
       "      <th>1</th>\n",
       "      <td>-196.295746</td>\n",
       "      <td>-203.346497</td>\n",
       "      <td>-223.553040</td>\n",
       "      <td>-231.692642</td>\n",
       "      <td>-237.219208</td>\n",
       "      <td>-236.797485</td>\n",
       "      <td>-247.763397</td>\n",
       "      <td>-266.350861</td>\n",
       "      <td>-59.441059</td>\n",
       "      <td>-224.360138</td>\n",
       "      <td>8.0</td>\n",
       "    </tr>\n",
       "    <tr>\n",
       "      <th>2</th>\n",
       "      <td>-205.286896</td>\n",
       "      <td>-172.780670</td>\n",
       "      <td>-199.452164</td>\n",
       "      <td>-219.666595</td>\n",
       "      <td>-205.301849</td>\n",
       "      <td>-214.008362</td>\n",
       "      <td>-219.535706</td>\n",
       "      <td>-228.663727</td>\n",
       "      <td>-86.674477</td>\n",
       "      <td>-217.169281</td>\n",
       "      <td>8.0</td>\n",
       "    </tr>\n",
       "    <tr>\n",
       "      <th>3</th>\n",
       "      <td>-94.831230</td>\n",
       "      <td>-217.055786</td>\n",
       "      <td>-180.152985</td>\n",
       "      <td>-203.779388</td>\n",
       "      <td>-219.982697</td>\n",
       "      <td>-207.115631</td>\n",
       "      <td>-220.682297</td>\n",
       "      <td>-230.710358</td>\n",
       "      <td>-201.342819</td>\n",
       "      <td>-179.074661</td>\n",
       "      <td>0.0</td>\n",
       "    </tr>\n",
       "    <tr>\n",
       "      <th>4</th>\n",
       "      <td>-198.840973</td>\n",
       "      <td>-211.971313</td>\n",
       "      <td>-161.434906</td>\n",
       "      <td>-177.900635</td>\n",
       "      <td>-181.809448</td>\n",
       "      <td>-185.951843</td>\n",
       "      <td>-65.639793</td>\n",
       "      <td>-184.611282</td>\n",
       "      <td>-221.326859</td>\n",
       "      <td>-204.986710</td>\n",
       "      <td>6.0</td>\n",
       "    </tr>\n",
       "    <tr>\n",
       "      <th>...</th>\n",
       "      <td>...</td>\n",
       "      <td>...</td>\n",
       "      <td>...</td>\n",
       "      <td>...</td>\n",
       "      <td>...</td>\n",
       "      <td>...</td>\n",
       "      <td>...</td>\n",
       "      <td>...</td>\n",
       "      <td>...</td>\n",
       "      <td>...</td>\n",
       "      <td>...</td>\n",
       "    </tr>\n",
       "    <tr>\n",
       "      <th>9995</th>\n",
       "      <td>-196.549438</td>\n",
       "      <td>-237.163330</td>\n",
       "      <td>-208.451248</td>\n",
       "      <td>-222.601471</td>\n",
       "      <td>-236.021835</td>\n",
       "      <td>-211.262787</td>\n",
       "      <td>-238.482590</td>\n",
       "      <td>-238.216812</td>\n",
       "      <td>-84.224258</td>\n",
       "      <td>-231.696503</td>\n",
       "      <td>8.0</td>\n",
       "    </tr>\n",
       "    <tr>\n",
       "      <th>9996</th>\n",
       "      <td>-205.447113</td>\n",
       "      <td>-239.228607</td>\n",
       "      <td>-165.247757</td>\n",
       "      <td>-88.541458</td>\n",
       "      <td>-137.730927</td>\n",
       "      <td>-165.099136</td>\n",
       "      <td>-189.976501</td>\n",
       "      <td>-201.341003</td>\n",
       "      <td>-222.841064</td>\n",
       "      <td>-226.312744</td>\n",
       "      <td>3.0</td>\n",
       "    </tr>\n",
       "    <tr>\n",
       "      <th>9997</th>\n",
       "      <td>-173.318298</td>\n",
       "      <td>-217.749313</td>\n",
       "      <td>-126.677765</td>\n",
       "      <td>-146.417328</td>\n",
       "      <td>-162.735901</td>\n",
       "      <td>-69.443375</td>\n",
       "      <td>-167.932693</td>\n",
       "      <td>-167.170380</td>\n",
       "      <td>-188.436310</td>\n",
       "      <td>-184.055740</td>\n",
       "      <td>5.0</td>\n",
       "    </tr>\n",
       "    <tr>\n",
       "      <th>9998</th>\n",
       "      <td>-226.278015</td>\n",
       "      <td>-69.221588</td>\n",
       "      <td>-220.184814</td>\n",
       "      <td>-222.027176</td>\n",
       "      <td>-239.776337</td>\n",
       "      <td>-223.030029</td>\n",
       "      <td>-232.390533</td>\n",
       "      <td>-228.728455</td>\n",
       "      <td>-213.707336</td>\n",
       "      <td>-207.681427</td>\n",
       "      <td>1.0</td>\n",
       "    </tr>\n",
       "    <tr>\n",
       "      <th>9999</th>\n",
       "      <td>-173.697830</td>\n",
       "      <td>-198.919022</td>\n",
       "      <td>-149.031189</td>\n",
       "      <td>-144.438934</td>\n",
       "      <td>-156.924835</td>\n",
       "      <td>-145.270401</td>\n",
       "      <td>-171.926758</td>\n",
       "      <td>-30.997236</td>\n",
       "      <td>-206.733948</td>\n",
       "      <td>-175.373810</td>\n",
       "      <td>7.0</td>\n",
       "    </tr>\n",
       "  </tbody>\n",
       "</table>\n",
       "<p>10000 rows × 11 columns</p>\n",
       "</div>"
      ],
      "text/plain": [
       "               0           1           2           3           4           5  \\\n",
       "0    -220.638977 -247.500397 -195.261261  -81.557091 -218.482452 -179.860413   \n",
       "1    -196.295746 -203.346497 -223.553040 -231.692642 -237.219208 -236.797485   \n",
       "2    -205.286896 -172.780670 -199.452164 -219.666595 -205.301849 -214.008362   \n",
       "3     -94.831230 -217.055786 -180.152985 -203.779388 -219.982697 -207.115631   \n",
       "4    -198.840973 -211.971313 -161.434906 -177.900635 -181.809448 -185.951843   \n",
       "...          ...         ...         ...         ...         ...         ...   \n",
       "9995 -196.549438 -237.163330 -208.451248 -222.601471 -236.021835 -211.262787   \n",
       "9996 -205.447113 -239.228607 -165.247757  -88.541458 -137.730927 -165.099136   \n",
       "9997 -173.318298 -217.749313 -126.677765 -146.417328 -162.735901  -69.443375   \n",
       "9998 -226.278015  -69.221588 -220.184814 -222.027176 -239.776337 -223.030029   \n",
       "9999 -173.697830 -198.919022 -149.031189 -144.438934 -156.924835 -145.270401   \n",
       "\n",
       "               6           7           8           9   10  \n",
       "0    -239.376038 -213.583466 -242.676712 -246.555481  3.0  \n",
       "1    -247.763397 -266.350861  -59.441059 -224.360138  8.0  \n",
       "2    -219.535706 -228.663727  -86.674477 -217.169281  8.0  \n",
       "3    -220.682297 -230.710358 -201.342819 -179.074661  0.0  \n",
       "4     -65.639793 -184.611282 -221.326859 -204.986710  6.0  \n",
       "...          ...         ...         ...         ...  ...  \n",
       "9995 -238.482590 -238.216812  -84.224258 -231.696503  8.0  \n",
       "9996 -189.976501 -201.341003 -222.841064 -226.312744  3.0  \n",
       "9997 -167.932693 -167.170380 -188.436310 -184.055740  5.0  \n",
       "9998 -232.390533 -228.728455 -213.707336 -207.681427  1.0  \n",
       "9999 -171.926758  -30.997236 -206.733948 -175.373810  7.0  \n",
       "\n",
       "[10000 rows x 11 columns]"
      ]
     },
     "execution_count": 10,
     "metadata": {},
     "output_type": "execute_result"
    }
   ],
   "source": [
    "my_data"
   ]
  },
  {
   "cell_type": "code",
   "execution_count": 11,
   "metadata": {},
   "outputs": [],
   "source": [
    "a=my_data.loc[my_data['10'] == 1]"
   ]
  },
  {
   "cell_type": "code",
   "execution_count": 16,
   "metadata": {},
   "outputs": [],
   "source": [
    "aa=a.drop(['10'],axis=1)"
   ]
  },
  {
   "cell_type": "code",
   "execution_count": 34,
   "metadata": {},
   "outputs": [],
   "source": [
    "b=pd.concat([aa['1']])"
   ]
  },
  {
   "cell_type": "code",
   "execution_count": 38,
   "metadata": {},
   "outputs": [
    {
     "data": {
      "text/plain": [
       "array([[<AxesSubplot:title={'center':'0'}>,\n",
       "        <AxesSubplot:title={'center':'1'}>,\n",
       "        <AxesSubplot:title={'center':'2'}>],\n",
       "       [<AxesSubplot:title={'center':'3'}>,\n",
       "        <AxesSubplot:title={'center':'4'}>,\n",
       "        <AxesSubplot:title={'center':'5'}>],\n",
       "       [<AxesSubplot:title={'center':'6'}>,\n",
       "        <AxesSubplot:title={'center':'7'}>,\n",
       "        <AxesSubplot:title={'center':'8'}>],\n",
       "       [<AxesSubplot:title={'center':'9'}>, <AxesSubplot:>,\n",
       "        <AxesSubplot:>]], dtype=object)"
      ]
     },
     "execution_count": 38,
     "metadata": {},
     "output_type": "execute_result"
    },
    {
     "data": {
      "image/png": "[encoded data removed]",
      "text/plain": [
       "<Figure size 648x648 with 12 Axes>"
      ]
     },
     "metadata": {
      "needs_background": "light"
     },
     "output_type": "display_data"
    }
   ],
   "source": [
    "aa.hist(figsize=(9,9))"
   ]
  },
  {
   "cell_type": "code",
   "execution_count": 19,
   "metadata": {},
   "outputs": [
    {
     "data": {
      "text/plain": [
       "<bound method NDFrame.describe of 6       -64.776756\n",
       "9       -54.638092\n",
       "37     -104.321136\n",
       "66      -79.726639\n",
       "81      -81.675400\n",
       "           ...    \n",
       "9916    -87.684006\n",
       "9935    -43.349392\n",
       "9941    -42.474396\n",
       "9974    -39.017776\n",
       "9998    -69.221588\n",
       "Name: 1, Length: 1000, dtype: float64>"
      ]
     },
     "execution_count": 19,
     "metadata": {},
     "output_type": "execute_result"
    }
   ],
   "source": [
    "a['1'].describe"
   ]
  },
  {
   "cell_type": "code",
   "execution_count": null,
   "metadata": {},
   "outputs": [],
   "source": []
  }
 ],
 "metadata": {
  "kernelspec": {
   "display_name": "Python 3",
   "language": "python",
   "name": "python3"
  },
  "language_info": {
   "codemirror_mode": {
    "name": "ipython",
    "version": 3
   },
   "file_extension": ".py",
   "mimetype": "text/x-python",
   "name": "python",
   "nbconvert_exporter": "python",
   "pygments_lexer": "ipython3",
   "version": "3.8.5"
  }
 },
 "nbformat": 4,
 "nbformat_minor": 4
}
