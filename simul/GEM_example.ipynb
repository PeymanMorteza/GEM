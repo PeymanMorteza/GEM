{
 "cells": [
  {
   "cell_type": "markdown",
   "metadata": {},
   "source": [
    "# <p style=\"text-align: center;\">$\\texttt{GEM.py}$ useage</p>\n",
    "\n",
    "### This notebook contains simple example to show how $\\texttt{GEM.py}$ module can be used to generate simulation results. \n",
    "\n",
    "### In-distribtion and out-distribution densities\n",
    "* $\\mathcal{X}$ represents the feature space, $\\mathcal{Y}$ represents the label space.\n",
    "* $k$ represents the number of classes and $d$ is the dimension of feature space.\n",
    "* $p^{in}_{\\mathcal{X}}(x)=\\sum_{i=1}^{k}\\frac{1}{k}p_{i}(x)$ and $p_{\\mathcal{Y}}(y_{i})=\\frac{1}{k}$\n",
    "* $p_{i}(x):=p(x|y_{i})\\sim \\mathcal{N}(\\mu_{i},\\Sigma)$ and $p(x|y_{i})=\\frac{1}{\\sqrt{(2\\pi)^{d}|\\Sigma|}}\\exp(-\\frac{1}{2}(x-\\mu_{i})^{T}\\Sigma^{-1}(x-\\mu_{i}))$.\n",
    "* $p^{out}_{\\mathcal{X}}(x)=\\frac{1}{\\sqrt{(2\\pi)^{d}|\\Sigma|}}\\exp(-\\frac{1}{2}(x-\\mu_{out})^{T}\\Sigma^{-1}(x-\\mu_{out}))$\n",
    "\n",
    "\n",
    "\n",
    "### OOD detector\n",
    "* $\\mathcal{Y}^{\\ast}:=\\{in,out\\}$ and $p^{\\ast}$ is a probability measure on $\\mathcal{X}\\times \\mathcal{Y}^{\\ast}$ such that:\n",
    "* $p^{\\ast}_{\\mathcal{Y}^{\\ast}}(in)=\\alpha,\\text{ }p^{\\ast}_{\\mathcal{Y}^{\\ast}}(out)=1-\\alpha$\n",
    "* $p^{\\ast}(x|in)=p^{in}_{\\mathcal{X}}(x),\\text{  }p^{\\ast}(x|out)=p^{out}_{\\mathcal{X}}(x)$\n",
    "* $p^{\\ast}_{\\mathcal{X}}(x)=\\alpha p^{in}_{\\mathcal{X}}(x)+(1-\\alpha)p^{out}_{\\mathcal{X}}(x)$"
   ]
  },
  {
   "cell_type": "code",
   "execution_count": 18,
   "metadata": {},
   "outputs": [],
   "source": [
    "import GEM\n",
    "from GEM import *\n",
    "import seaborn as sns; sns.set_theme()"
   ]
  },
  {
   "cell_type": "code",
   "execution_count": 2,
   "metadata": {},
   "outputs": [],
   "source": [
    "#uncomment to see info for each method\n",
    "#help(GEM)"
   ]
  },
  {
   "cell_type": "code",
   "execution_count": 3,
   "metadata": {},
   "outputs": [],
   "source": [
    "#distance between ID and OOD\n",
    "distance_list=[r*0.5 for r in range(1,20)]\n",
    "distance_list;"
   ]
  },
  {
   "cell_type": "code",
   "execution_count": 4,
   "metadata": {},
   "outputs": [],
   "source": [
    "#GEM performance under each distance\n",
    "fpr_list=[simulate(10,2,1,0.5,1000,phi=1,normalized=r) for r in distance_list]"
   ]
  },
  {
   "cell_type": "code",
   "execution_count": 12,
   "metadata": {},
   "outputs": [],
   "source": [
    "data=pd.DataFrame(data=[fpr_list],columns=distance_list);\n",
    "dt=data.T;\n",
    "dt=dt.rename(columns={0: \"performance\"});"
   ]
  },
  {
   "cell_type": "code",
   "execution_count": 19,
   "metadata": {},
   "outputs": [
    {
     "data": {
      "image/png": "[encoded data removed]",
      "text/plain": [
       "<Figure size 432x288 with 1 Axes>"
      ]
     },
     "metadata": {},
     "output_type": "display_data"
    }
   ],
   "source": [
    "ax=sns.lineplot(data=dt, linewidth=2.5)\n",
    "ax.set(xlabel='Distance between ID and OOD', ylabel='FPR');"
   ]
  },
  {
   "cell_type": "code",
   "execution_count": null,
   "metadata": {},
   "outputs": [],
   "source": []
  }
 ],
 "metadata": {
  "kernelspec": {
   "display_name": "Python 3",
   "language": "python",
   "name": "python3"
  },
  "language_info": {
   "codemirror_mode": {
    "name": "ipython",
    "version": 3
   },
   "file_extension": ".py",
   "mimetype": "text/x-python",
   "name": "python",
   "nbconvert_exporter": "python",
   "pygments_lexer": "ipython3",
   "version": "3.8.10"
  }
 },
 "nbformat": 4,
 "nbformat_minor": 4
}
